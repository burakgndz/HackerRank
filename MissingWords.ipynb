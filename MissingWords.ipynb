{
 "cells": [
  {
   "cell_type": "markdown",
   "id": "44e95ae7",
   "metadata": {},
   "source": [
    "#### There are two strings, a and b, where b is a sub-sequence of a, find the words of a missing in b (case sensitive) in the order they are missing."
   ]
  },
  {
   "cell_type": "code",
   "execution_count": 1,
   "id": "251ad3f3",
   "metadata": {},
   "outputs": [],
   "source": [
    "a=\"Python is an easy to learn powerful programming language Python has efficient high-level data structures and a simple but effective approach to objectoriented programming elegant syntax and dynamic typing\"\n",
    "b=\"Python is Python high-level elegant syntax\"\n",
    "s=a.split()\n",
    "t=b.split()"
   ]
  },
  {
   "cell_type": "code",
   "execution_count": 2,
   "id": "a3cf66ac",
   "metadata": {},
   "outputs": [],
   "source": [
    "def missing_words(s,t):\n",
    "    ii = []\n",
    "    for i in range(len(t)):\n",
    "        if s.count(t[i]) >1:#in case of a having more than 1 equal words... \n",
    "            n=[k for k in range(len(s)) if s[k]==t[i]]\n",
    "            try:\n",
    "                if i == len(t)-1:\n",
    "                    t_index = s.index(t[i-1])\n",
    "                    n.append(t_index)\n",
    "                    n.sort()\n",
    "                    my_index = n[n.index(t_index)+1]\n",
    "                else:\n",
    "                    t_index = s.index(t[i+1])\n",
    "                    n.append(t_index)\n",
    "                    n.sort()\n",
    "                    my_index = n[n.index(t_index)-1]\n",
    "            except:\n",
    "                my_index=s.index(t[i])\n",
    "        else:\n",
    "            my_index=s.index(t[i])\n",
    "        for j in range(my_index,len(s)):\n",
    "            if t[i]==s[j]:\n",
    "                ii.append(j)\n",
    "            break\n",
    "    ss=[s[i] for i in range(len(s)) if i not in ii]\n",
    "    return(ss)"
   ]
  },
  {
   "cell_type": "code",
   "execution_count": 3,
   "id": "f144a275",
   "metadata": {},
   "outputs": [],
   "source": [
    "ms_words = missing_words(s,t)"
   ]
  },
  {
   "cell_type": "code",
   "execution_count": 4,
   "id": "b9dbdc6f",
   "metadata": {},
   "outputs": [
    {
     "data": {
      "text/plain": [
       "'Python is an easy to learn powerful programming language Python has efficient high-level data structures and a simple but effective approach to objectoriented programming elegant syntax and dynamic typing'"
      ]
     },
     "execution_count": 4,
     "metadata": {},
     "output_type": "execute_result"
    }
   ],
   "source": [
    "a"
   ]
  },
  {
   "cell_type": "code",
   "execution_count": 5,
   "id": "cc6981cd",
   "metadata": {},
   "outputs": [
    {
     "data": {
      "text/plain": [
       "'Python is Python high-level elegant syntax'"
      ]
     },
     "execution_count": 5,
     "metadata": {},
     "output_type": "execute_result"
    }
   ],
   "source": [
    "b"
   ]
  },
  {
   "cell_type": "code",
   "execution_count": 6,
   "id": "86481728",
   "metadata": {},
   "outputs": [
    {
     "data": {
      "text/plain": [
       "'an easy to learn powerful programming language has efficient data structures and a simple but effective approach to objectoriented programming and dynamic typing'"
      ]
     },
     "execution_count": 6,
     "metadata": {},
     "output_type": "execute_result"
    }
   ],
   "source": [
    "\" \".join(ms_words)#missing words"
   ]
  },
  {
   "cell_type": "code",
   "execution_count": null,
   "id": "592f2317",
   "metadata": {},
   "outputs": [],
   "source": []
  }
 ],
 "metadata": {
  "kernelspec": {
   "display_name": "Python 3 (ipykernel)",
   "language": "python",
   "name": "python3"
  },
  "language_info": {
   "codemirror_mode": {
    "name": "ipython",
    "version": 3
   },
   "file_extension": ".py",
   "mimetype": "text/x-python",
   "name": "python",
   "nbconvert_exporter": "python",
   "pygments_lexer": "ipython3",
   "version": "3.10.9"
  }
 },
 "nbformat": 4,
 "nbformat_minor": 5
}
